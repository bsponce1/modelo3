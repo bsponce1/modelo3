{
 "cells": [
  {
   "cell_type": "code",
   "execution_count": 1,
   "id": "fb873711",
   "metadata": {},
   "outputs": [],
   "source": [
    "'''Extrae el archivo zip del dataset'''\n",
    "import zipfile\n",
    "with zipfile.ZipFile('dataset.zip', 'r') as zip_ref:\n",
    "    zip_ref.extractall('.')"
   ]
  },
  {
   "cell_type": "code",
   "execution_count": 2,
   "id": "1984fe40",
   "metadata": {},
   "outputs": [],
   "source": [
    "'''Cargar librerias'''\n",
    "import tensorflow as tf\n",
    "import matplotlib.pyplot as plt\n",
    "import numpy as np\n",
    "import os\n",
    "import tensorflow as tf\n",
    "from tensorflow import keras\n",
    "from keras import layers\n",
    "import matplotlib.image as img\n",
    "\n",
    "\n",
    "%matplotlib inline"
   ]
  },
  {
   "cell_type": "code",
   "execution_count": 3,
   "id": "c784be4d",
   "metadata": {},
   "outputs": [
    {
     "name": "stderr",
     "output_type": "stream",
     "text": [
      "WARNING: Ignoring invalid distribution -atplotlib (c:\\users\\bryan ponce\\anaconda3\\lib\\site-packages)\n",
      "WARNING: Ignoring invalid distribution -atplotlib (c:\\users\\bryan ponce\\anaconda3\\lib\\site-packages)\n",
      "WARNING: Ignoring invalid distribution -atplotlib (c:\\users\\bryan ponce\\anaconda3\\lib\\site-packages)\n",
      "WARNING: Ignoring invalid distribution -atplotlib (c:\\users\\bryan ponce\\anaconda3\\lib\\site-packages)\n",
      "WARNING: Ignoring invalid distribution -atplotlib (c:\\users\\bryan ponce\\anaconda3\\lib\\site-packages)\n",
      "WARNING: Ignoring invalid distribution -atplotlib (c:\\users\\bryan ponce\\anaconda3\\lib\\site-packages)\n"
     ]
    },
    {
     "name": "stdout",
     "output_type": "stream",
     "text": [
      "Requirement already satisfied: split-folders in c:\\users\\bryan ponce\\anaconda3\\lib\\site-packages (0.5.1)\n"
     ]
    },
    {
     "name": "stderr",
     "output_type": "stream",
     "text": [
      "Copying files: 400 files [00:10, 39.38 files/s]\n"
     ]
    }
   ],
   "source": [
    "'''Instalar modulo'''\n",
    "!pip install split-folders\n",
    "import splitfolders\n",
    "'''Para asignar el entrenamiento, prueba y validacion'''\n",
    "splitfolders.ratio('./dataset', output=\"output\", seed=1337, ratio=(.6, 0.2,0.2)) "
   ]
  },
  {
   "cell_type": "code",
   "execution_count": 4,
   "id": "719a297c",
   "metadata": {},
   "outputs": [
    {
     "name": "stdout",
     "output_type": "stream",
     "text": [
      "Found 240 files belonging to 5 classes.\n",
      "Found 80 files belonging to 5 classes.\n",
      "Found 80 files belonging to 5 classes.\n"
     ]
    }
   ],
   "source": [
    "'''Para preprocesar los datos con keras'''\n",
    "train_ds = tf.keras.preprocessing.image_dataset_from_directory(\n",
    "\"./output/train\",\n",
    "seed=123,\n",
    "image_size=(128, 128),\n",
    "batch_size=64\n",
    ")\n",
    "\n",
    "test_ds = tf.keras.preprocessing.image_dataset_from_directory(\n",
    "\"./output/test\",\n",
    "seed=123,\n",
    "image_size=(128, 128),\n",
    "batch_size=64\n",
    ")\n",
    "\n",
    "val_ds = tf.keras.preprocessing.image_dataset_from_directory(\n",
    "\"./output/val\",\n",
    "seed=123,\n",
    "image_size=(128, 128),\n",
    "batch_size=64\n",
    ")"
   ]
  },
  {
   "cell_type": "code",
   "execution_count": null,
   "id": "4b044539",
   "metadata": {},
   "outputs": [],
   "source": []
  }
 ],
 "metadata": {
  "kernelspec": {
   "display_name": "Python 3 (ipykernel)",
   "language": "python",
   "name": "python3"
  },
  "language_info": {
   "codemirror_mode": {
    "name": "ipython",
    "version": 3
   },
   "file_extension": ".py",
   "mimetype": "text/x-python",
   "name": "python",
   "nbconvert_exporter": "python",
   "pygments_lexer": "ipython3",
   "version": "3.9.12"
  }
 },
 "nbformat": 4,
 "nbformat_minor": 5
}
