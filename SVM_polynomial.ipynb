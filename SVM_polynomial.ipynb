{
  "cells": [
    {
      "cell_type": "markdown",
      "metadata": {
        "id": "view-in-github",
        "colab_type": "text"
      },
      "source": [
        "<a href=\"https://colab.research.google.com/github/bsponce1/modelo3/blob/main/SVM_polynomial.ipynb\" target=\"_parent\"><img src=\"https://colab.research.google.com/assets/colab-badge.svg\" alt=\"Open In Colab\"/></a>"
      ]
    },
    {
      "cell_type": "code",
      "source": [
        ""
      ],
      "metadata": {
        "id": "8w-MhetVvX9r"
      },
      "id": "8w-MhetVvX9r",
      "execution_count": null,
      "outputs": []
    },
    {
      "cell_type": "code",
      "execution_count": 1,
      "id": "1eea66d2",
      "metadata": {
        "id": "1eea66d2"
      },
      "outputs": [],
      "source": [
        "'''Extrae el archivo zip del dataset'''\n",
        "import zipfile\n",
        "with zipfile.ZipFile('dataset.zip', 'r') as zip_ref:\n",
        "    zip_ref.extractall('.')"
      ]
    },
    {
      "cell_type": "code",
      "execution_count": 2,
      "id": "7c13994f",
      "metadata": {
        "id": "7c13994f"
      },
      "outputs": [],
      "source": [
        "'''Cargar librerias'''\n",
        "import tensorflow as tf\n",
        "import matplotlib.pyplot as plt\n",
        "import numpy as np\n",
        "import os\n",
        "import tensorflow as tf\n",
        "from tensorflow import keras\n",
        "from keras import layers\n",
        "import matplotlib.image as img\n",
        "\n",
        "\n",
        "%matplotlib inline"
      ]
    },
    {
      "cell_type": "code",
      "execution_count": 3,
      "id": "ef1bc63b",
      "metadata": {
        "colab": {
          "base_uri": "https://localhost:8080/"
        },
        "id": "ef1bc63b",
        "outputId": "144cd6b4-4bce-40b3-cd1a-e9ced0030e01"
      },
      "outputs": [
        {
          "output_type": "stream",
          "name": "stdout",
          "text": [
            "Looking in indexes: https://pypi.org/simple, https://us-python.pkg.dev/colab-wheels/public/simple/\n",
            "Requirement already satisfied: split-folders in /usr/local/lib/python3.7/dist-packages (0.5.1)\n"
          ]
        },
        {
          "output_type": "stream",
          "name": "stderr",
          "text": [
            "Copying files: 4100 files [00:01, 3846.31 files/s]\n"
          ]
        }
      ],
      "source": [
        "'''Instalar modulo'''\n",
        "!pip install split-folders\n",
        "import splitfolders\n",
        "'''Para asignar el entrenamiento, prueba y validacion'''\n",
        "splitfolders.ratio('./dataset', output=\"output\", seed=1337, ratio=(.6, 0.2,0.2)) "
      ]
    },
    {
      "cell_type": "code",
      "execution_count": 4,
      "id": "0b257371",
      "metadata": {
        "colab": {
          "base_uri": "https://localhost:8080/"
        },
        "id": "0b257371",
        "outputId": "e378d352-e585-4ed0-d967-e29dde3a6cbb"
      },
      "outputs": [
        {
          "output_type": "stream",
          "name": "stdout",
          "text": [
            "Found 3420 files belonging to 7 classes.\n",
            "Found 1410 files belonging to 7 classes.\n",
            "Found 1460 files belonging to 7 classes.\n"
          ]
        }
      ],
      "source": [
        "'''Para preprocesar los datos con keras'''\n",
        "train_ds = tf.keras.preprocessing.image_dataset_from_directory(\n",
        "\"./output/train\",\n",
        "seed=123,\n",
        "image_size=(128, 128),\n",
        "batch_size=64\n",
        ")\n",
        "\n",
        "test_ds = tf.keras.preprocessing.image_dataset_from_directory(\n",
        "\"./output/test\",\n",
        "seed=123,\n",
        "image_size=(128, 128),\n",
        "batch_size=64\n",
        ")\n",
        "\n",
        "val_ds = tf.keras.preprocessing.image_dataset_from_directory(\n",
        "\"./output/val\",\n",
        "seed=123,\n",
        "image_size=(128, 128),\n",
        "batch_size=64\n",
        ")"
      ]
    },
    {
      "cell_type": "code",
      "execution_count": 5,
      "id": "fae99602",
      "metadata": {
        "colab": {
          "base_uri": "https://localhost:8080/"
        },
        "id": "fae99602",
        "outputId": "9345a78a-97b2-49fa-c73c-7bf81857c5da"
      },
      "outputs": [
        {
          "output_type": "stream",
          "name": "stdout",
          "text": [
            "['Arborio', 'Basmati', 'Ipsala', 'Jasmine', 'Karacadag', 'test', 'training']\n"
          ]
        }
      ],
      "source": [
        "'''Clases de arroz'''\n",
        "class_names = train_ds.class_names\n",
        "print(class_names)"
      ]
    },
    {
      "cell_type": "code",
      "execution_count": 7,
      "id": "e710bc16",
      "metadata": {
        "colab": {
          "base_uri": "https://localhost:8080/",
          "height": 278
        },
        "id": "e710bc16",
        "outputId": "cdc56a68-2876-43d5-debb-9864e7e50f92"
      },
      "outputs": [
        {
          "output_type": "execute_result",
          "data": {
            "text/plain": [
              "<matplotlib.image.AxesImage at 0x7fcdf1de5310>"
            ]
          },
          "metadata": {},
          "execution_count": 7
        },
        {
          "output_type": "display_data",
          "data": {
            "text/plain": [
              "<Figure size 1440x360 with 5 Axes>"
            ],
            "image/png": "[encoded data removed]"
          },
          "metadata": {
            "needs_background": "light"
          }
        }
      ],
      "source": [
        "'''Para crear la figura'''\n",
        "fig, ax = plt.subplots(ncols=5, figsize=(20,5))\n",
        "fig.suptitle('Rice Category')\n",
        "'''Para tomar los tipos de datos para predecir'''\n",
        "arborio_img = img.imread('./dataset/Arborio/Arborio (1).jpg')\n",
        "basmati_img = img.imread('./dataset//Basmati/Basmati (1).jpg')\n",
        "ipsala_img = img.imread('./dataset/Ipsala/Ipsala (1).jpg')\n",
        "jasmine_img = img.imread('./dataset/Jasmine/Jasmine (1).jpg')\n",
        "karacadag_img = img.imread('./dataset/Karacadag/Karacadag (1).jpg')\n",
        "\n",
        "'''Poner nombres a las imagenes'''\n",
        "ax[0].set_title('arborio')\n",
        "ax[1].set_title('basmati')\n",
        "ax[2].set_title('ipsala')\n",
        "ax[3].set_title('jasmine')\n",
        "ax[4].set_title('karacadag')\n",
        "'''Ejecutar las imagenes de los tipos de arroz'''\n",
        "ax[0].imshow(arborio_img)\n",
        "ax[1].imshow(basmati_img)\n",
        "ax[2].imshow(ipsala_img)\n",
        "ax[3].imshow(jasmine_img)\n",
        "ax[4].imshow(karacadag_img)"
      ]
    },
    {
      "cell_type": "code",
      "execution_count": 8,
      "id": "f920dd4d",
      "metadata": {
        "colab": {
          "base_uri": "https://localhost:8080/",
          "height": 269
        },
        "id": "f920dd4d",
        "outputId": "946623a9-9b9d-4ac4-9f0b-e1c27457b22d"
      },
      "outputs": [
        {
          "output_type": "display_data",
          "data": {
            "text/plain": [
              "<Figure size 432x288 with 1 Axes>"
            ],
            "image/png": "[encoded data removed]"
          },
          "metadata": {
            "needs_background": "light"
          }
        }
      ],
      "source": [
        "'''Toma una imagen como prediccion'''\n",
        "data='./dataset'\n",
        "import cv2\n",
        "for category in class_names:\n",
        "    path=os.path.join(data, category)\n",
        "    for img in os.listdir(path):\n",
        "        img_array=cv2.imread(os.path.join(path,img))\n",
        "        plt.imshow(img_array)\n",
        "        plt.show()\n",
        "        break\n",
        "    break"
      ]
    },
    {
      "cell_type": "code",
      "execution_count": 9,
      "id": "0d7adce6",
      "metadata": {
        "colab": {
          "base_uri": "https://localhost:8080/"
        },
        "id": "0d7adce6",
        "outputId": "d250f4e7-3b45-4827-f36e-f64bcf9984df"
      },
      "outputs": [
        {
          "output_type": "stream",
          "name": "stdout",
          "text": [
            "4100\n"
          ]
        }
      ],
      "source": [
        "'''Creacion del entrenamiento de los datos'''\n",
        "training_data=[]\n",
        "IMG_SIZE=100\n",
        "def create_training_data():\n",
        "    for category in class_names:\n",
        "        path=os.path.join(data, category)\n",
        "        class_num=class_names.index(category)\n",
        "        for img in os.listdir(path):\n",
        "            try:\n",
        "                img_array=cv2.imread(os.path.join(path,img))\n",
        "                new_array=cv2.resize(img_array,(IMG_SIZE,IMG_SIZE))\n",
        "                training_data.append([new_array,class_num])\n",
        "            except Exception as e:\n",
        "                pass\n",
        "create_training_data() \n",
        "'''Ver la cantidad de datos'''\n",
        "print(len(training_data))"
      ]
    },
    {
      "cell_type": "code",
      "execution_count": 10,
      "id": "aa2a4edf",
      "metadata": {
        "colab": {
          "base_uri": "https://localhost:8080/"
        },
        "id": "aa2a4edf",
        "outputId": "a1fbe18e-f3c7-427d-ce56-5603961b2fad"
      },
      "outputs": [
        {
          "output_type": "execute_result",
          "data": {
            "text/plain": [
              "array([0., 0., 0., ..., 0., 0., 0.])"
            ]
          },
          "metadata": {},
          "execution_count": 10
        }
      ],
      "source": [
        "'''Para asignar los datos de entrenamiento'''\n",
        "lenofimage = len(training_data)\n",
        "'''Creacion de la variable x and y'''\n",
        "X=[]\n",
        "y=[]\n",
        "\n",
        "'''Mostrar las categorias'''\n",
        "for categories, label in training_data:\n",
        "    X.append(categories)\n",
        "    y.append(label)\n",
        "X= np.array(X).reshape(lenofimage,-1)\n",
        "'''Cantidad de datos'''\n",
        "X.shape\n",
        "'''Dividir x en numero maximo de pixel'''\n",
        "X = X/255.0\n",
        "'''La variable x en position 1'''\n",
        "X[1]"
      ]
    },
    {
      "cell_type": "code",
      "execution_count": 11,
      "id": "0f80b798",
      "metadata": {
        "colab": {
          "base_uri": "https://localhost:8080/"
        },
        "id": "0f80b798",
        "outputId": "57feb418-f1fd-4caa-dc00-dde657de6a1a"
      },
      "outputs": [
        {
          "output_type": "execute_result",
          "data": {
            "text/plain": [
              "(4100,)"
            ]
          },
          "metadata": {},
          "execution_count": 11
        }
      ],
      "source": [
        "'''Cantidad de datos en y'''\n",
        "y=np.array(y)\n",
        "y.shape"
      ]
    },
    {
      "cell_type": "code",
      "execution_count": 12,
      "id": "c9c2741b",
      "metadata": {
        "id": "c9c2741b"
      },
      "outputs": [],
      "source": [
        "from sklearn.model_selection import train_test_split\n",
        "X_train, X_test, y_train, y_test = train_test_split(X,y)"
      ]
    },
    {
      "cell_type": "code",
      "execution_count": 13,
      "id": "2cfcd05d",
      "metadata": {
        "id": "2cfcd05d"
      },
      "outputs": [],
      "source": [
        "'''Para entrenar el modelo'''\n",
        "from sklearn.model_selection import train_test_split\n",
        "X_train, X_test, y_train, y_test = train_test_split(X,y)\n",
        "from sklearn.svm import SVC\n",
        "'''Asignacion del kernel'''\n",
        "svc = SVC(kernel='linear',gamma='auto')\n",
        "svc.fit(X_train, y_train)\n",
        "y2 = svc.predict(X_test)"
      ]
    },
    {
      "cell_type": "code",
      "execution_count": 14,
      "id": "17d8622d",
      "metadata": {
        "colab": {
          "base_uri": "https://localhost:8080/"
        },
        "id": "17d8622d",
        "outputId": "ed0c67b8-e5f6-4c34-8b98-7afcf8c7c0bf"
      },
      "outputs": [
        {
          "output_type": "stream",
          "name": "stdout",
          "text": [
            "Accuracy on unknown data is 0.9912195121951219\n",
            "Accuracy on unknown data is               precision    recall  f1-score   support\n",
            "\n",
            "           0       0.99      0.99      0.99       206\n",
            "           1       0.99      0.98      0.99       201\n",
            "           2       1.00      1.00      1.00       209\n",
            "           3       0.98      1.00      0.99       217\n",
            "           4       0.99      0.99      0.99       192\n",
            "\n",
            "    accuracy                           0.99      1025\n",
            "   macro avg       0.99      0.99      0.99      1025\n",
            "weighted avg       0.99      0.99      0.99      1025\n",
            "\n"
          ]
        }
      ],
      "source": [
        "'''Creacion de la predicion'''\n",
        "y2 = svc.predict(X_test)\n",
        "'''Acurracy del modelo'''\n",
        "from sklearn.metrics import accuracy_score\n",
        "print(\"Accuracy on unknown data is\",accuracy_score(y_test,y2))\n",
        "'''Acurracy de cada imagen'''\n",
        "from sklearn.metrics import classification_report\n",
        "print(\"Accuracy on unknown data is\",classification_report(y_test,y2))"
      ]
    },
    {
      "cell_type": "code",
      "execution_count": 15,
      "id": "7778d69a",
      "metadata": {
        "colab": {
          "base_uri": "https://localhost:8080/",
          "height": 677
        },
        "id": "7778d69a",
        "outputId": "55f3ece2-7b19-40fc-c453-7153312ba8dc"
      },
      "outputs": [
        {
          "output_type": "execute_result",
          "data": {
            "text/plain": [
              "    original  predicted\n",
              "0          1          1\n",
              "1          4          4\n",
              "2          1          1\n",
              "3          2          2\n",
              "4          1          1\n",
              "5          3          3\n",
              "6          3          3\n",
              "7          2          2\n",
              "8          1          1\n",
              "9          2          2\n",
              "10         0          0\n",
              "11         3          3\n",
              "12         4          4\n",
              "13         1          1\n",
              "14         4          4\n",
              "15         4          4\n",
              "16         1          1\n",
              "17         1          1\n",
              "18         3          3\n",
              "19         1          1"
            ],
            "text/html": [
              "\n",
              "  <div id=\"df-8d0c2fa3-69ba-455e-880a-895bbd826995\">\n",
              "    <div class=\"colab-df-container\">\n",
              "      <div>\n",
              "<style scoped>\n",
              "    .dataframe tbody tr th:only-of-type {\n",
              "        vertical-align: middle;\n",
              "    }\n",
              "\n",
              "    .dataframe tbody tr th {\n",
              "        vertical-align: top;\n",
              "    }\n",
              "\n",
              "    .dataframe thead th {\n",
              "        text-align: right;\n",
              "    }\n",
              "</style>\n",
              "<table border=\"1\" class=\"dataframe\">\n",
              "  <thead>\n",
              "    <tr style=\"text-align: right;\">\n",
              "      <th></th>\n",
              "      <th>original</th>\n",
              "      <th>predicted</th>\n",
              "    </tr>\n",
              "  </thead>\n",
              "  <tbody>\n",
              "    <tr>\n",
              "      <th>0</th>\n",
              "      <td>1</td>\n",
              "      <td>1</td>\n",
              "    </tr>\n",
              "    <tr>\n",
              "      <th>1</th>\n",
              "      <td>4</td>\n",
              "      <td>4</td>\n",
              "    </tr>\n",
              "    <tr>\n",
              "      <th>2</th>\n",
              "      <td>1</td>\n",
              "      <td>1</td>\n",
              "    </tr>\n",
              "    <tr>\n",
              "      <th>3</th>\n",
              "      <td>2</td>\n",
              "      <td>2</td>\n",
              "    </tr>\n",
              "    <tr>\n",
              "      <th>4</th>\n",
              "      <td>1</td>\n",
              "      <td>1</td>\n",
              "    </tr>\n",
              "    <tr>\n",
              "      <th>5</th>\n",
              "      <td>3</td>\n",
              "      <td>3</td>\n",
              "    </tr>\n",
              "    <tr>\n",
              "      <th>6</th>\n",
              "      <td>3</td>\n",
              "      <td>3</td>\n",
              "    </tr>\n",
              "    <tr>\n",
              "      <th>7</th>\n",
              "      <td>2</td>\n",
              "      <td>2</td>\n",
              "    </tr>\n",
              "    <tr>\n",
              "      <th>8</th>\n",
              "      <td>1</td>\n",
              "      <td>1</td>\n",
              "    </tr>\n",
              "    <tr>\n",
              "      <th>9</th>\n",
              "      <td>2</td>\n",
              "      <td>2</td>\n",
              "    </tr>\n",
              "    <tr>\n",
              "      <th>10</th>\n",
              "      <td>0</td>\n",
              "      <td>0</td>\n",
              "    </tr>\n",
              "    <tr>\n",
              "      <th>11</th>\n",
              "      <td>3</td>\n",
              "      <td>3</td>\n",
              "    </tr>\n",
              "    <tr>\n",
              "      <th>12</th>\n",
              "      <td>4</td>\n",
              "      <td>4</td>\n",
              "    </tr>\n",
              "    <tr>\n",
              "      <th>13</th>\n",
              "      <td>1</td>\n",
              "      <td>1</td>\n",
              "    </tr>\n",
              "    <tr>\n",
              "      <th>14</th>\n",
              "      <td>4</td>\n",
              "      <td>4</td>\n",
              "    </tr>\n",
              "    <tr>\n",
              "      <th>15</th>\n",
              "      <td>4</td>\n",
              "      <td>4</td>\n",
              "    </tr>\n",
              "    <tr>\n",
              "      <th>16</th>\n",
              "      <td>1</td>\n",
              "      <td>1</td>\n",
              "    </tr>\n",
              "    <tr>\n",
              "      <th>17</th>\n",
              "      <td>1</td>\n",
              "      <td>1</td>\n",
              "    </tr>\n",
              "    <tr>\n",
              "      <th>18</th>\n",
              "      <td>3</td>\n",
              "      <td>3</td>\n",
              "    </tr>\n",
              "    <tr>\n",
              "      <th>19</th>\n",
              "      <td>1</td>\n",
              "      <td>1</td>\n",
              "    </tr>\n",
              "  </tbody>\n",
              "</table>\n",
              "</div>\n",
              "      <button class=\"colab-df-convert\" onclick=\"convertToInteractive('df-8d0c2fa3-69ba-455e-880a-895bbd826995')\"\n",
              "              title=\"Convert this dataframe to an interactive table.\"\n",
              "              style=\"display:none;\">\n",
              "        \n",
              "  <svg xmlns=\"http://www.w3.org/2000/svg\" height=\"24px\"viewBox=\"0 0 24 24\"\n",
              "       width=\"24px\">\n",
              "    <path d=\"M0 0h24v24H0V0z\" fill=\"none\"/>\n",
              "    <path d=\"M18.56 5.44l.94 2.06.94-2.06 2.06-.94-2.06-.94-.94-2.06-.94 2.06-2.06.94zm-11 1L8.5 8.5l.94-2.06 2.06-.94-2.06-.94L8.5 2.5l-.94 2.06-2.06.94zm10 10l.94 2.06.94-2.06 2.06-.94-2.06-.94-.94-2.06-.94 2.06-2.06.94z\"/><path d=\"M17.41 7.96l-1.37-1.37c-.4-.4-.92-.59-1.43-.59-.52 0-1.04.2-1.43.59L10.3 9.45l-7.72 7.72c-.78.78-.78 2.05 0 2.83L4 21.41c.39.39.9.59 1.41.59.51 0 1.02-.2 1.41-.59l7.78-7.78 2.81-2.81c.8-.78.8-2.07 0-2.86zM5.41 20L4 18.59l7.72-7.72 1.47 1.35L5.41 20z\"/>\n",
              "  </svg>\n",
              "      </button>\n",
              "      \n",
              "  <style>\n",
              "    .colab-df-container {\n",
              "      display:flex;\n",
              "      flex-wrap:wrap;\n",
              "      gap: 12px;\n",
              "    }\n",
              "\n",
              "    .colab-df-convert {\n",
              "      background-color: #E8F0FE;\n",
              "      border: none;\n",
              "      border-radius: 50%;\n",
              "      cursor: pointer;\n",
              "      display: none;\n",
              "      fill: #1967D2;\n",
              "      height: 32px;\n",
              "      padding: 0 0 0 0;\n",
              "      width: 32px;\n",
              "    }\n",
              "\n",
              "    .colab-df-convert:hover {\n",
              "      background-color: #E2EBFA;\n",
              "      box-shadow: 0px 1px 2px rgba(60, 64, 67, 0.3), 0px 1px 3px 1px rgba(60, 64, 67, 0.15);\n",
              "      fill: #174EA6;\n",
              "    }\n",
              "\n",
              "    [theme=dark] .colab-df-convert {\n",
              "      background-color: #3B4455;\n",
              "      fill: #D2E3FC;\n",
              "    }\n",
              "\n",
              "    [theme=dark] .colab-df-convert:hover {\n",
              "      background-color: #434B5C;\n",
              "      box-shadow: 0px 1px 3px 1px rgba(0, 0, 0, 0.15);\n",
              "      filter: drop-shadow(0px 1px 2px rgba(0, 0, 0, 0.3));\n",
              "      fill: #FFFFFF;\n",
              "    }\n",
              "  </style>\n",
              "\n",
              "      <script>\n",
              "        const buttonEl =\n",
              "          document.querySelector('#df-8d0c2fa3-69ba-455e-880a-895bbd826995 button.colab-df-convert');\n",
              "        buttonEl.style.display =\n",
              "          google.colab.kernel.accessAllowed ? 'block' : 'none';\n",
              "\n",
              "        async function convertToInteractive(key) {\n",
              "          const element = document.querySelector('#df-8d0c2fa3-69ba-455e-880a-895bbd826995');\n",
              "          const dataTable =\n",
              "            await google.colab.kernel.invokeFunction('convertToInteractive',\n",
              "                                                     [key], {});\n",
              "          if (!dataTable) return;\n",
              "\n",
              "          const docLinkHtml = 'Like what you see? Visit the ' +\n",
              "            '<a target=\"_blank\" href=https://colab.research.google.com/notebooks/data_table.ipynb>data table notebook</a>'\n",
              "            + ' to learn more about interactive tables.';\n",
              "          element.innerHTML = '';\n",
              "          dataTable['output_type'] = 'display_data';\n",
              "          await google.colab.output.renderOutput(dataTable, element);\n",
              "          const docLink = document.createElement('div');\n",
              "          docLink.innerHTML = docLinkHtml;\n",
              "          element.appendChild(docLink);\n",
              "        }\n",
              "      </script>\n",
              "    </div>\n",
              "  </div>\n",
              "  "
            ]
          },
          "metadata": {},
          "execution_count": 15
        }
      ],
      "source": [
        "'''Para visualizar los datos'''\n",
        "import pandas as pd\n",
        "'''Mostrar el resultado de la prediccion'''\n",
        "result = pd.DataFrame({'original' : y_test,'predicted' : y2})\n",
        "result.head(20)"
      ]
    },
    {
      "cell_type": "markdown",
      "id": "a3b5312a",
      "metadata": {
        "id": "a3b5312a"
      },
      "source": [
        "# Kernel Polynomial"
      ]
    },
    {
      "cell_type": "code",
      "execution_count": null,
      "id": "b51fa22f",
      "metadata": {
        "id": "b51fa22f"
      },
      "outputs": [],
      "source": [
        "'''Creacion del kernel polynomial'''\n",
        "poly_param_grid = {\n",
        "    \n",
        "        \"kernel\": [\"poly\"],\n",
        "        \"degree\": [2, 3, 4],\n",
        "        \"C\": [0.0001, 0.001, 0.1, 1, 10, 100, 1000],\n",
        "        \"decision_function_shape\": ['ovo', 'ovr']\n",
        "}\n",
        "from sklearn import svm\n",
        "from sklearn.model_selection import GridSearchCV\n",
        "poly_grid = GridSearchCV(svm.SVC(), poly_param_grid)\n",
        "poly_grid.fit(X_train,y_train)\n",
        "print(poly_grid.best_estimator_)"
      ]
    },
    {
      "cell_type": "code",
      "execution_count": null,
      "id": "4fb1e8fa",
      "metadata": {
        "id": "4fb1e8fa"
      },
      "outputs": [],
      "source": [
        "'''Creacion de metricas del modelo'''\n",
        "from sklearn.metrics import accuracy_score, precision_score, recall_score, f1_score, make_scorer\n",
        "poly_pred = poly_grid.predict(X_test)\n",
        "poly_accuracy = accuracy_score(y_test, poly_pred)\n",
        "poly_precision = precision_score(y_test, poly_pred, average='weighted')\n",
        "poly_recall = recall_score(y_test, poly_pred, average='weighted')\n",
        "poly_f1 = f1_score(y_test, poly_pred, average='weighted')\n",
        "print('Accuracy (Polynomial Kernel): ', \"%.2f\" % (poly_accuracy*100))\n",
        "print('F1 (Polynomial Kernel): ', \"%.2f\" % (poly_f1*100))\n",
        "print('Precision (Polynomial Kernel): ', \"%.2f\" % (poly_precision*100))\n",
        "print('Recall (Polynomial Kernel): ', \"%.2f\" % (poly_recall*100))"
      ]
    },
    {
      "cell_type": "code",
      "execution_count": null,
      "id": "774955d7",
      "metadata": {
        "id": "774955d7"
      },
      "outputs": [],
      "source": [
        "'''Creacion de las imagenes'''\n",
        "import seaborn as sns\n",
        "from sklearn.metrics import confusion_matrix\n",
        "cm = confusion_matrix(y_test, y2)\n",
        "\n",
        "plt.figure(figsize=(10,8))\n",
        "\n",
        "ax = sns.heatmap(cm/np.sum(cm),fmt='.2%', annot=True, cmap='vlag')\n",
        "\n",
        "ax.set_title('Confusion Matrix with labels\\n');\n",
        "ax.set_xlabel('\\nPredicted Values')\n",
        "ax.set_ylabel('Actual Values ');\n",
        "\n",
        "ax.xaxis.set_ticklabels(class_names)\n",
        "ax.yaxis.set_ticklabels(class_names)\n",
        "'''Graficar la matriz'''\n",
        "plt.show()"
      ]
    }
  ],
  "metadata": {
    "kernelspec": {
      "display_name": "Python 3 (ipykernel)",
      "language": "python",
      "name": "python3"
    },
    "language_info": {
      "codemirror_mode": {
        "name": "ipython",
        "version": 3
      },
      "file_extension": ".py",
      "mimetype": "text/x-python",
      "name": "python",
      "nbconvert_exporter": "python",
      "pygments_lexer": "ipython3",
      "version": "3.9.12"
    },
    "colab": {
      "name": "SVM polynomial.ipynb",
      "provenance": [],
      "include_colab_link": true
    }
  },
  "nbformat": 4,
  "nbformat_minor": 5
}